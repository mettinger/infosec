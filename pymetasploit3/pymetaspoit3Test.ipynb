{
 "cells": [
  {
   "cell_type": "code",
   "execution_count": 4,
   "metadata": {},
   "outputs": [],
   "source": [
    "from pymetasploit3.msfrpc import MsfRpcClient"
   ]
  },
  {
   "cell_type": "code",
   "execution_count": 10,
   "metadata": {},
   "outputs": [],
   "source": [
    "client = MsfRpcClient(password='gBa9jRCU', port=55552)"
   ]
  },
  {
   "cell_type": "code",
   "execution_count": 11,
   "metadata": {},
   "outputs": [
    {
     "data": {
      "text/plain": [
       "['add_perm_token',\n",
       " 'auth',\n",
       " 'authenticated',\n",
       " 'call',\n",
       " 'consoles',\n",
       " 'core',\n",
       " 'db',\n",
       " 'encoding',\n",
       " 'headers',\n",
       " 'host',\n",
       " 'jobs',\n",
       " 'login',\n",
       " 'logout',\n",
       " 'modules',\n",
       " 'plugins',\n",
       " 'port',\n",
       " 'post_request',\n",
       " 'sessions',\n",
       " 'ssl',\n",
       " 'token',\n",
       " 'uri']"
      ]
     },
     "execution_count": 11,
     "metadata": {},
     "output_type": "execute_result"
    }
   ],
   "source": [
    "[m for m in dir(client) if not m.startswith('_')]"
   ]
  },
  {
   "cell_type": "code",
   "execution_count": 12,
   "metadata": {},
   "outputs": [],
   "source": [
    "exploit = client.modules.use('exploit', 'unix/ftp/vsftpd_234_backdoor')"
   ]
  },
  {
   "cell_type": "code",
   "execution_count": null,
   "metadata": {},
   "outputs": [],
   "source": []
  }
 ],
 "metadata": {
  "kernelspec": {
   "display_name": "Python 3",
   "language": "python",
   "name": "python3"
  },
  "language_info": {
   "codemirror_mode": {
    "name": "ipython",
    "version": 3
   },
   "file_extension": ".py",
   "mimetype": "text/x-python",
   "name": "python",
   "nbconvert_exporter": "python",
   "pygments_lexer": "ipython3",
   "version": "3.11.6"
  }
 },
 "nbformat": 4,
 "nbformat_minor": 2
}
